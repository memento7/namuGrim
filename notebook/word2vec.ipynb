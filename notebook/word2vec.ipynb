{
 "cells": [
  {
   "cell_type": "code",
   "execution_count": 3,
   "metadata": {
    "collapsed": true,
    "deletable": true,
    "editable": true
   },
   "outputs": [],
   "source": [
    "from konlpy.tag import Twitter\n",
    "import pandas as pd\n",
    "import pickle\n",
    "import re"
   ]
  },
  {
   "cell_type": "code",
   "execution_count": 4,
   "metadata": {
    "collapsed": true,
    "deletable": true,
    "editable": true
   },
   "outputs": [],
   "source": [
    "tagger = Twitter()"
   ]
  },
  {
   "cell_type": "markdown",
   "metadata": {
    "deletable": true,
    "editable": true
   },
   "source": [
    "## load pickle"
   ]
  },
  {
   "cell_type": "code",
   "execution_count": 5,
   "metadata": {
    "collapsed": false,
    "deletable": true,
    "editable": true
   },
   "outputs": [],
   "source": [
    "with open('../data/actors.pick', 'rb') as f:\n",
    "    actors = pickle.load(f)"
   ]
  },
  {
   "cell_type": "code",
   "execution_count": 6,
   "metadata": {
    "collapsed": false,
    "deletable": true,
    "editable": true
   },
   "outputs": [
    {
     "name": "stdout",
     "output_type": "stream",
     "text": [
      "(8, 2)\n"
     ]
    },
    {
     "data": {
      "text/html": [
       "<div>\n",
       "<table border=\"1\" class=\"dataframe\">\n",
       "  <thead>\n",
       "    <tr style=\"text-align: right;\">\n",
       "      <th></th>\n",
       "      <th>name</th>\n",
       "      <th>type</th>\n",
       "    </tr>\n",
       "  </thead>\n",
       "  <tbody>\n",
       "    <tr>\n",
       "      <th>0</th>\n",
       "      <td>김태희</td>\n",
       "      <td>배우</td>\n",
       "    </tr>\n",
       "    <tr>\n",
       "      <th>1</th>\n",
       "      <td>공유</td>\n",
       "      <td>배우</td>\n",
       "    </tr>\n",
       "    <tr>\n",
       "      <th>2</th>\n",
       "      <td>이병헌</td>\n",
       "      <td>배우</td>\n",
       "    </tr>\n",
       "  </tbody>\n",
       "</table>\n",
       "</div>"
      ],
      "text/plain": [
       "  name  type\n",
       "0  김태희    배우\n",
       "1   공유    배우\n",
       "2  이병헌    배우"
      ]
     },
     "execution_count": 6,
     "metadata": {},
     "output_type": "execute_result"
    }
   ],
   "source": [
    "print (actors.shape)\n",
    "actors.head(3)"
   ]
  },
  {
   "cell_type": "code",
   "execution_count": 7,
   "metadata": {
    "collapsed": false,
    "deletable": true,
    "editable": true
   },
   "outputs": [],
   "source": [
    "with open('../data/namuwiki.pick', 'rb') as f:\n",
    "    frame = pickle.load(f)"
   ]
  },
  {
   "cell_type": "code",
   "execution_count": 8,
   "metadata": {
    "collapsed": false,
    "deletable": true,
    "editable": true
   },
   "outputs": [
    {
     "name": "stdout",
     "output_type": "stream",
     "text": [
      "(842910, 4)\n"
     ]
    },
    {
     "data": {
      "text/html": [
       "<div>\n",
       "<table border=\"1\" class=\"dataframe\">\n",
       "  <thead>\n",
       "    <tr style=\"text-align: right;\">\n",
       "      <th></th>\n",
       "      <th>contributors</th>\n",
       "      <th>namespace</th>\n",
       "      <th>text</th>\n",
       "      <th>title</th>\n",
       "    </tr>\n",
       "  </thead>\n",
       "  <tbody>\n",
       "    <tr>\n",
       "      <th>0</th>\n",
       "      <td>[namubot, R:hoon12560]</td>\n",
       "      <td>0</td>\n",
       "      <td>#redirect 느낌표\\n</td>\n",
       "      <td>!</td>\n",
       "    </tr>\n",
       "    <tr>\n",
       "      <th>1</th>\n",
       "      <td>[anatra95, chkong1998, Iviyuki, kirby10, max02...</td>\n",
       "      <td>0</td>\n",
       "      <td>[[파일:3444050440.jpg]]\\n([[신 세계수의 미궁 2]]에서 뜬 !!...</td>\n",
       "      <td>!!아앗!!</td>\n",
       "    </tr>\n",
       "    <tr>\n",
       "      <th>2</th>\n",
       "      <td>[ABC, AhnJ2000, aottkd3014, dream33, Fairy, ga...</td>\n",
       "      <td>0</td>\n",
       "      <td>[include(틀:다른 뜻1, other1=말줄임표 등으로 사용하는 용어, rd1...</td>\n",
       "      <td>“……”</td>\n",
       "    </tr>\n",
       "  </tbody>\n",
       "</table>\n",
       "</div>"
      ],
      "text/plain": [
       "                                        contributors namespace  \\\n",
       "0                             [namubot, R:hoon12560]         0   \n",
       "1  [anatra95, chkong1998, Iviyuki, kirby10, max02...         0   \n",
       "2  [ABC, AhnJ2000, aottkd3014, dream33, Fairy, ga...         0   \n",
       "\n",
       "                                                text   title  \n",
       "0                                    #redirect 느낌표\\n       !  \n",
       "1  [[파일:3444050440.jpg]]\\n([[신 세계수의 미궁 2]]에서 뜬 !!...  !!아앗!!  \n",
       "2  [include(틀:다른 뜻1, other1=말줄임표 등으로 사용하는 용어, rd1...    “……”  "
      ]
     },
     "execution_count": 8,
     "metadata": {},
     "output_type": "execute_result"
    }
   ],
   "source": [
    "print (frame.shape)\n",
    "frame.head(3)"
   ]
  },
  {
   "cell_type": "code",
   "execution_count": 22,
   "metadata": {
    "collapsed": true,
    "deletable": true,
    "editable": true
   },
   "outputs": [],
   "source": [
    "def get_article(title):\n",
    "    p = frame.loc[frame['title'] == title]\n",
    "    if p.empty:\n",
    "        return \"\"\n",
    "    return p.text.values[0]"
   ]
  },
  {
   "cell_type": "code",
   "execution_count": 23,
   "metadata": {
    "collapsed": true,
    "deletable": true,
    "editable": true
   },
   "outputs": [],
   "source": [
    "pat_redirect = re.compile('^#redirect (.+)')\n",
    "pat_index = re.compile('(.+?)\\#(.+)')\n",
    "def redirect_filter(text):\n",
    "    match = pat_index.match(text)\n",
    "    if match:\n",
    "        return match.group(1)\n",
    "    return text\n",
    "\n",
    "def check_redirect(text):\n",
    "    match = pat_redirect.match(text)\n",
    "    if match:\n",
    "        return redirect_filter(match.group(1).strip())\n",
    "    else:\n",
    "        return False"
   ]
  },
  {
   "cell_type": "code",
   "execution_count": 24,
   "metadata": {
    "collapsed": true,
    "deletable": true,
    "editable": true
   },
   "outputs": [],
   "source": [
    "pat_bracket = re.compile(r'\\[\\[(.+?)\\]\\]')\n",
    "pat_file = re.compile(r'\\[\\[파일:(.+)\\]\\]')\n",
    "pat_link = re.compile(r'\\[\\[(.+?)\\|(.+?)\\]\\]')\n",
    "pat_comment = re.compile(r'\\[\\*(.+?)\\]')\n",
    "pat_high = re.compile(r'\\{\\{\\{(.+?)\\}\\}\\}')\n",
    "pat_frame = re.compile(r'\\[include\\(틀:(.+?)\\)\\]')\n",
    "\n",
    "def article_filter(text):\n",
    "    chk = check_redirect(text)\n",
    "    if chk:\n",
    "        text = get_article(chk)\n",
    "    return text\n",
    "\n",
    "def bracket_filter(text):\n",
    "    ret = \"\"\n",
    "    match = pat_file.match(text)\n",
    "    if match: \n",
    "        ret = \"\"\n",
    "    else:\n",
    "        match = pat_link.match(text)\n",
    "        if match: \n",
    "            ret = match.group(2)\n",
    "        else:\n",
    "            ret = text[2:-2]\n",
    "    return ret\n",
    "\n",
    "def context_filter(text):\n",
    "    # find frame\n",
    "    delc = 0\n",
    "    matches = pat_frame.finditer(text)\n",
    "    for match in matches:\n",
    "        conv = match.group(1)\n",
    "        text = text[:match.start() - delc] + conv + text[match.end() - delc:]\n",
    "        delc += len(match.group(0)) - len(conv)\n",
    "    \n",
    "    # find bracket\n",
    "    delc = 0\n",
    "    matches = pat_bracket.finditer(text)\n",
    "    for match in matches:\n",
    "        conv = bracket_filter(match.group(0))\n",
    "        text = text[:match.start() - delc] + conv +  text[match.end() - delc:]\n",
    "        delc += len(match.group(0)) - len(conv)\n",
    "        \n",
    "    # comments\n",
    "    delc = 0\n",
    "    matches = pat_comment.finditer(text)\n",
    "    for match in matches:\n",
    "        text = text[:match.start() - delc] + match.group(0) +  text[match.end() - delc:]\n",
    "        delc += 3\n",
    "        \n",
    "    # find highlight\n",
    "    delc = 0\n",
    "    matches = pat_high.finditer(text)\n",
    "    for match in matches:\n",
    "        text = text[:match.start() - delc] + match.group(1) +  text[match.end() - delc:]\n",
    "        delc += 6\n",
    "    \n",
    "    return text"
   ]
  },
  {
   "cell_type": "code",
   "execution_count": 25,
   "metadata": {
    "collapsed": true,
    "deletable": true,
    "editable": true
   },
   "outputs": [],
   "source": [
    "def tokenize(content):\n",
    "    return [\"{}/{}\".format(word, tag) for word, tag in tagger.pos(content) if tag == 'Noun']"
   ]
  },
  {
   "cell_type": "code",
   "execution_count": 26,
   "metadata": {
    "collapsed": true,
    "deletable": true,
    "editable": true
   },
   "outputs": [],
   "source": [
    "class Words:\n",
    "    def __init__(self, frame, filt = lambda x: x):\n",
    "        self.frame = frame\n",
    "        self.filt = filt\n",
    "    \n",
    "    def __iter__(self):\n",
    "        for _, article in self.frame.iterrows():\n",
    "            yield self.filt(article)"
   ]
  },
  {
   "cell_type": "markdown",
   "metadata": {
    "deletable": true,
    "editable": true
   },
   "source": [
    "# word2vec"
   ]
  },
  {
   "cell_type": "code",
   "execution_count": 6,
   "metadata": {
    "collapsed": true
   },
   "outputs": [],
   "source": [
    "from os import listdir"
   ]
  },
  {
   "cell_type": "code",
   "execution_count": 7,
   "metadata": {
    "collapsed": false
   },
   "outputs": [
    {
     "data": {
      "text/plain": [
       "['word2vec.py',\n",
       " 'Cluster.ipynb',\n",
       " 'Cluster.py',\n",
       " 'check.json',\n",
       " '.ipynb_checkpoints',\n",
       " 'word2vec.ipynb',\n",
       " 'DataAnalysis.ipynb']"
      ]
     },
     "execution_count": 7,
     "metadata": {},
     "output_type": "execute_result"
    }
   ],
   "source": [
    "listdir('.')"
   ]
  },
  {
   "cell_type": "code",
   "execution_count": 5,
   "metadata": {
    "collapsed": false,
    "deletable": true,
    "editable": true
   },
   "outputs": [],
   "source": [
    "import gensim"
   ]
  },
  {
   "cell_type": "code",
   "execution_count": 28,
   "metadata": {
    "collapsed": true,
    "deletable": true,
    "editable": true
   },
   "outputs": [],
   "source": [
    "namuWords = Words(frame, filt=lambda x : tokenize(context_filter(article_filter(x.text))))"
   ]
  },
  {
   "cell_type": "code",
   "execution_count": 29,
   "metadata": {
    "collapsed": false,
    "deletable": true,
    "editable": true
   },
   "outputs": [],
   "source": [
    "namuTrains = Words(frame, filt=lambda x : tokenize(context_filter(article_filter(x.text))))"
   ]
  },
  {
   "cell_type": "code",
   "execution_count": null,
   "metadata": {
    "collapsed": true,
    "deletable": true,
    "editable": true
   },
   "outputs": [],
   "source": [
    "model = gensim.models.Word2Vec()"
   ]
  },
  {
   "cell_type": "code",
   "execution_count": null,
   "metadata": {
    "collapsed": true,
    "deletable": true,
    "editable": true
   },
   "outputs": [],
   "source": [
    "model.build_vocab(namuWords)"
   ]
  },
  {
   "cell_type": "code",
   "execution_count": null,
   "metadata": {
    "collapsed": true,
    "deletable": true,
    "editable": true
   },
   "outputs": [],
   "source": [
    "model.train(namuTrains)"
   ]
  },
  {
   "cell_type": "code",
   "execution_count": null,
   "metadata": {
    "collapsed": true,
    "deletable": true,
    "editable": true
   },
   "outputs": [],
   "source": [
    "model.save('../data/model')"
   ]
  },
  {
   "cell_type": "code",
   "execution_count": null,
   "metadata": {
    "collapsed": false,
    "deletable": true,
    "editable": true
   },
   "outputs": [],
   "source": [
    "model.most_similar('아이유/Noun')"
   ]
  },
  {
   "cell_type": "code",
   "execution_count": null,
   "metadata": {
    "collapsed": true,
    "deletable": true,
    "editable": true
   },
   "outputs": [],
   "source": []
  }
 ],
 "metadata": {
  "kernelspec": {
   "display_name": "Python 3",
   "language": "python",
   "name": "python3"
  },
  "language_info": {
   "codemirror_mode": {
    "name": "ipython",
    "version": 3
   },
   "file_extension": ".py",
   "mimetype": "text/x-python",
   "name": "python",
   "nbconvert_exporter": "python",
   "pygments_lexer": "ipython3",
   "version": "3.5.2"
  }
 },
 "nbformat": 4,
 "nbformat_minor": 2
}
