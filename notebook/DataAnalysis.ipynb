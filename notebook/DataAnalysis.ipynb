{
 "cells": [
  {
   "cell_type": "code",
   "execution_count": 1,
   "metadata": {
    "collapsed": false,
    "deletable": true,
    "editable": true
   },
   "outputs": [],
   "source": [
    "from __future__ import absolute_import\n",
    "from __future__ import print_function\n",
    "from __future__ import division"
   ]
  },
  {
   "cell_type": "code",
   "execution_count": 2,
   "metadata": {
    "collapsed": true,
    "deletable": true,
    "editable": true
   },
   "outputs": [],
   "source": [
    "import numpy as np\n",
    "import pandas as pd\n",
    "import tensorflow as tf\n",
    "import matplotlib.pyplot as plt\n",
    "import json\n",
    "import re\n",
    "import pickle"
   ]
  },
  {
   "cell_type": "code",
   "execution_count": 3,
   "metadata": {
    "collapsed": true,
    "deletable": true,
    "editable": true
   },
   "outputs": [],
   "source": [
    "import collections\n",
    "import math\n",
    "import os\n",
    "import random\n",
    "import zipfile"
   ]
  },
  {
   "cell_type": "markdown",
   "metadata": {},
   "source": [
    "# ko-Wikipedia"
   ]
  },
  {
   "cell_type": "code",
   "execution_count": 4,
   "metadata": {
    "collapsed": true
   },
   "outputs": [],
   "source": [
    "import xml.etree.ElementTree as ET"
   ]
  },
  {
   "cell_type": "code",
   "execution_count": 5,
   "metadata": {
    "collapsed": true
   },
   "outputs": [],
   "source": [
    "from xml.dom import minidom"
   ]
  },
  {
   "cell_type": "code",
   "execution_count": 6,
   "metadata": {
    "collapsed": false
   },
   "outputs": [],
   "source": [
    "root = ET.parse('../data/kowiki.xml').getroot()"
   ]
  },
  {
   "cell_type": "code",
   "execution_count": 28,
   "metadata": {
    "collapsed": true
   },
   "outputs": [],
   "source": [
    "kowiki = pd.DataFrame()"
   ]
  },
  {
   "cell_type": "code",
   "execution_count": 47,
   "metadata": {
    "collapsed": true
   },
   "outputs": [],
   "source": [
    "flag = 10"
   ]
  },
  {
   "cell_type": "code",
   "execution_count": 49,
   "metadata": {
    "collapsed": false,
    "scrolled": true
   },
   "outputs": [
    {
     "name": "stdout",
     "output_type": "stream",
     "text": [
      "{http://www.mediawiki.org/xml/export-0.10/}id 15252069\n",
      "{http://www.mediawiki.org/xml/export-0.10/}parentid 15132558\n",
      "{http://www.mediawiki.org/xml/export-0.10/}timestamp 2015-11-23T06:00:49Z\n",
      "{http://www.mediawiki.org/xml/export-0.10/}contributor \n",
      "        \n",
      "{http://www.mediawiki.org/xml/export-0.10/}minor None\n",
      "{http://www.mediawiki.org/xml/export-0.10/}comment \"포털:응용과학\"을 \"포털:기술\"로 고침\n",
      "{http://www.mediawiki.org/xml/export-0.10/}model wikitext\n",
      "{http://www.mediawiki.org/xml/export-0.10/}format text/x-wiki\n",
      "{http://www.mediawiki.org/xml/export-0.10/}text <!-- 머릿글 -->\n",
      "<div id=\"mp_header\" class=\"mp_outerbox\" style=\"border:1px solid #a7d7f9; margin: 0 0 0.5em; overflow: hidden; padding: 0.5em; font-size: small; -moz-border-radius: 0.8em; -webkit-border-radius: 0.8em; border-radius:0.8em;\">\n",
      "{| width=\"100%\" \n",
      "| <div style=\"float: left; width: 0em; height: 0em; margin: -0.5em 0em 0em -2.5em; overflow: visiable;\">[[파일:Wikipedia-logo-v2-200px-transparent.png|140px|링크=]]</div>\n",
      "<div style=\"float: left; margin-left:115px\"><div style=\"font-size:1.4em; font-weight: bold\">한국어 위키백과에 오신 것을 [[위키백과:환영합니다|환영합니다!]]</div>위키백과는 전 세계 여러 언어로 만들어 나가는 자유 백과사전으로, 누구나 참여하실 수 있습니다.<br/>현재 [[한국어 위키백과]]에는 문서 [[특수기능:통계|'''{{NUMBEROFARTICLES}}''']]개가 실려 있습니다.</div>{{-}}\n",
      "|\n",
      "* {{Nobr|[[포털:인문학|인문학]]}}\n",
      "* {{Nobr|[[포털:미술|미술]]}}\n",
      "* {{Nobr|[[포털:과학|과학]]}}\n",
      "|\n",
      "* {{Nobr|[[포털:사회과학|사회과학]]}}\n",
      "* {{Nobr|[[포털:기술|기술]]}}\n",
      "* {{Nobr|'''[[포털:목차/포털|모든 포털]]'''}}\n",
      "|}\n",
      "</div><!-- /머릿글 -->\n",
      "<!-- 찾기 --><div id=\"mp_search\" class=\"mp_outerbox\" style=\"border:1px solid #a7d7f9; margin: 0 0 0.5em; background-color: #f9fcff; vertical-align:top; padding:0 0.5em 0 0.5em; overflow: auto; font-size: small; -moz-border-radius: 0.8em; -webkit-border-radius: 0.8em; border-radius: 0.8em;\">\n",
      "{| width=\"100%\"\n",
      "|<div style=\"float: left; overflow: hidden;\">\n",
      "<inputbox>\n",
      "type=search\n",
      "width=25\n",
      "buttonlabel=이동\n",
      "searchbuttonlabel=본문 검색\n",
      "break=no\n",
      "</inputbox></div>\n",
      "|<!-- 링크 모음 -->\n",
      "<div class=\"plainlinks\" style=\"text-align: right; color: #71c9f0\">\n",
      "[[위키백과:정책과 지침|정책과 지침]] '''/'''\n",
      "[[위키백과:사용자 모임|사용자 모임]] '''/'''\n",
      "[[위키백과:도움말|도움말]] '''/'''\n",
      "[[위키백과:방명록|방명록]] '''/'''\n",
      "[http://donate.wikimedia.org/?uselang=ko 기부 안내] '''/'''\n",
      "[http://ko.m.wikipedia.org/ 모바일판 대문]\n",
      "</div><!-- /링크 모음 -->\n",
      "|}\n",
      "</div><!-- /찾기 -->\n",
      "<!-- 본문 -->\n",
      "<div id=\"mp_contents\" class=\"mp_outerbox\" style=\"clear: both; height: 100%; font-size: small;\">\n",
      "<!-- 본문 왼쪽 -->\n",
      "<div id=\"mp_contentsL\" style=\"float: left; width: 62.99%; height: 100%;\">\n",
      "<!-- 알찬 글 -->\n",
      "<div id=\"mp_featuredArticle\" class=\"mp_contentsbox\" style=\"border:1px solid #a7d7f9; margin: 0.5em 0.5em 0 0; vertical-align:top; padding: 1em; overflow: auto; -moz-border-radius: 0.8em; -webkit-border-radius: 0.8em; border-radius: 0.8em;\">\n",
      "<div class=\"mp_contentsboxtitle\" style=\"background-color: #bbddff; margin-bottom: 0.7em; padding: 0.2em 0.5em; font-size: 1.2em; line-height: 1.2em; overflow: visible; font-weight: bold; -moz-border-radius: 0.5em; -webkit-border-radius: 0.5em; border-radius: 0.5em;\"><div style=\"float: left; margin: -8px 8px -8px 0px;\">[[파일:HSutvald2.svg|35px|middle|링크=]]</div>[[위키백과:알찬 글|오늘의 알찬 글]]</div>\n",
      "<div id=\"mp-tfa\">{{위키백과:오늘의 알찬 글}}</div></div>\n",
      "<!-- 좋은 글 -->\n",
      "<div id=\"mp_goodArticle\" class=\"mp_contentsbox\" style=\"border:1px solid #a7d7f9; margin: 0.5em 0.5em 0 0; vertical-align:top; padding: 1em; overflow: auto; -moz-border-radius: 0.8em; -webkit-border-radius: 0.8em; border-radius: 0.8em;\">\n",
      "<div class=\"mp_contentsboxtitle\" style=\"background-color: #bbddff; margin-bottom: 0.7em; padding: 0.2em 0.5em; font-size: 1.2em; line-height: 1.2em; overflow: visible; font-weight: bold; -moz-border-radius: 0.5em; -webkit-border-radius: 0.5em; border-radius: 0.5em;\"><div style=\"float: left; margin: -8px 8px -8px 0px;\">[[파일:HSutvald2-Grey.svg|35px|middle|링크=]]</div>[[위키백과:좋은 글|오늘의 좋은 글]]</div>\n",
      "{{위키백과:오늘의 좋은 글}}</div>\n",
      "<!-- 오늘의 역사 -->\n",
      "<div id=\"mp_todayInHistory\" class=\"mp_contentsbox\" style=\"border:1px solid #a7d7f9; margin: 0.5em 0.5em 0 0; vertical-align:top; padding: 1em; overflow: auto; -moz-border-radius: 0.8em; -webkit-border-radius: 0.8em; border-radius: 0.8em;\">\n",
      "<div class=\"mp_contentsboxtitle\" style=\"background-color: #bbddff; margin-bottom: 0.7em; padding: 0.2em 0.5em; font-size: 1.2em; line-height: 1.2em; overflow: visible; font-weight: bold; -moz-border-radius: 0.5em; -webkit-border-radius: 0.5em; border-radius: 0.5em;\"><div style=\"float: left; margin: -8px 8px -8px 0px;\">[[파일:HSDagensdatum.svg|35px|middle|링크=]]</div>[[위키백과:오늘의 역사|오늘의 역사]]</div>{{위키백과:오늘의 역사/{{#timel:F j일}}}}</div>\n",
      "<!-- 알고 계십니까 -->\n",
      "<div id=\"mp_didYouKnow\" class=\"mp_contentsbox\" style=\"border:1px solid #a7d7f9; margin: 0.5em 0.5em 0.5em 0; vertical-align:top; padding: 1em; overflow: auto; -moz-border-radius: 0.8em; -webkit-border-radius: 0.8em; border-radius: 0.8em;\">\n",
      "<div class=\"mp_contentsboxtitle\" style=\"background-color: #bbddff; margin-bottom: 0.7em; padding: 0.2em 0.5em; font-size: 1.2em; line-height: 1.2em; overflow: visible; font-weight: bold; -moz-border-radius: 0.5em; -webkit-border-radius: 0.5em; border-radius: 0.5em;\"><div style=\"float: left; margin: -8px 8px -8px 0px;\">[[파일:HSVissteduatt.svg|35px|middle|링크=]]</div>[[위키백과:알고 계십니까|알고 계십니까]]</div>{{알고 계십니까}}</div>\n",
      "</div><!-- /본문 왼쪽 -->\n",
      "<!-- 본문 오른쪽 -->\n",
      "<div id=\"mp_contentsR\" style=\"width: 36.99%; height: 100%; float: right;\">\n",
      "<!-- 위키백과 소개 -->\n",
      "<div id=\"mp_introduce\" class=\"mp_contentsbox\" style=\"border:1px solid #a7d7f9; margin: 0.5em 0 0 0.5em; vertical-align:top; padding: 1em; overflow: auto; background-color: #eef6ff; -moz-border-radius: 0.8em; -webkit-border-radius: 0.8em; border-radius: 0.8em;\">\n",
      "<div class=\"mp_contentsboxtitle\" style=\"background-color: #bbddff; margin-bottom: 0.7em; padding: 0.2em 0.5em; font-size: 1.2em; line-height: 1.2em; overflow: visible; font-weight: bold; -moz-border-radius: 0.5em; -webkit-border-radius: 0.5em; border-radius: 0.5em;\"><div style=\"float: left; margin: -8px 8px -8px 0px;\">[[파일:W-circle.svg|35px|middle|링크=]]</div>[[위키백과:소개|위키백과 소개]]</div>{{위키백과 소개}}</div>\n",
      "<!-- 위키백과 참여하기 -->\n",
      "<div id=\"mp_participation\" class=\"mp_contentsbox\" style=\"border:1px solid #a7d7f9; margin: 0.5em 0 0 0.5em; vertical-align:top; padding: 1em; overflow: auto; background-color: #eef6ff; -moz-border-radius: 0.8em; -webkit-border-radius: 0.8em; border-radius: 0.8em;\">\n",
      "<div class=\"mp_contentsboxtitle\" style=\"background-color: #bbddff; margin-bottom: 0.7em; padding: 0.2em 0.5em; font-size: 1.2em; line-height: 1.2em; overflow: visible; font-weight: bold; -moz-border-radius: 0.5em; -webkit-border-radius: 0.5em; border-radius: 0.5em;\"><div style=\"float: left; margin: -8px 8px -8px 0px;\">[[파일:Text-x-generic with pencil-2.svg|35px|middle|링크=]]</div>위키백과 참여하기</div>{{위키백과 참여하기}}</div>\n",
      "<!-- 새로 들어온 소식 -->\n",
      "<div id=\"mp_CurrentEvents\" class=\"mp_contentsbox\" style=\"border:1px solid #a7d7f9; margin: 0.5em 0 0 0.5em; vertical-align:top; padding: 1em; overflow: auto; background-color: #eef6ff; -moz-border-radius: 0.8em; -webkit-border-radius: 0.8em; border-radius: 0.8em;\">\n",
      "<div class=\"mp_contentsboxtitle\" style=\"background-color: #bbddff; margin-bottom: 0.7em; padding: 0.2em 0.5em; font-size: 1.2em; line-height: 1.2em; overflow: visible; font-weight: bold; -moz-border-radius: 0.5em; -webkit-border-radius: 0.5em; border-radius: 0.5em;\"><div style=\"float: left; margin: -8px 8px -8px 0px;\">[[파일:HSAktuell.svg|35px|middle|링크=]]</div>[[위키백과:새로 들어온 소식|새로 들어온 소식]]</div><div id=\"mp-itn\">{{새로 들어온 소식}}</div></div>\n",
      "<!-- 오늘의 그림 -->\n",
      "<div id=\"mp_pictureOfTheDay\" class=\"mp_contentsbox\" style=\"border:1px solid #a7d7f9; margin: 0.5em 0 0.5em 0.5em; vertical-align:top; padding: 1em; overflow: auto; background-color: #eef6ff; -moz-border-radius: 0.8em; -webkit-border-radius: 0.8em; border-radius: 0.8em;\">\n",
      "<div class=\"mp_contentsboxtitle\" style=\"background-color: #bbddff; margin-bottom: 0.7em; padding: 0.2em 0.5em; font-size: 1.2em; line-height: 1.2em; overflow: visible; font-weight: bold; -moz-border-radius: 0.5em; -webkit-border-radius: 0.5em; border-radius: 0.5em;\"><div style=\"float: left; margin: -8px 8px -8px 0px;\">[[파일:HSBild.svg|35px|middle|링크=]]</div>[[위키백과:오늘의 그림|오늘의 그림]]</div>\n",
      "<div class=\"center\" style=\"overflow: hidden;\">[[파일:{{위키백과:오늘의 그림/{{#timel:Y년 F}}/그림|d{{#timel:j}}}}|255x255px]]<br />\n",
      "{{#if: {{위키백과:오늘의 그림/{{#timel:Y년 F}}/한국어|d{{#timel:j}}}}|{{위키백과:오늘의 그림/{{#timel:Y년 F}}/한국어|d{{#timel:j}}}}|{{위키백과:오늘의 그림/{{#timel:Y년 F}}/영어|d{{#timel:j}}}}}}</div>\n",
      "<div style=\"text-align:right;\">'''[[:commons:Commons:알찬 그림|더 보기...]]'''</div></div>\n",
      "<!-- /본문 오른쪽 -->\n",
      "</div></div>\n",
      "<!-- /본문 -->\n",
      "<!-- 바닥글 -->\n",
      "<div id=\"mp_footer\" style=\"clear: both; height: 100%; overflow: auto; font-size: small;\">\n",
      "<!-- 자매프로젝트 -->\n",
      "<div id=\"mp_sisterProjects\" class=\"mp_outerbox\" style=\"border:1px solid #a7d7f9; margin: 0.5em 0 0.5em; vertical-align:top; padding: 1em; -moz-border-radius: 0.8em; -webkit-border-radius: 0.8em; border-radius: 0.8em;\">\n",
      "<div style=\"background-color: #bbddff; margin-bottom: 0.7em; padding: 0.2em 0.5em; font-size: 1.2em; line-height: 1.2em; overflow: visible; font-weight: bold; -moz-border-radius: 0.5em; -webkit-border-radius: 0.5em; border-radius: 0.5em;\"><div style=\"float: left; margin: -8px 8px -8px 0px;\">[[파일:Wikimedia-logo-circle.svg|35px|middle|링크=]]</div>[[위키백과:자매 프로젝트|자매 프로젝트]]</div>\n",
      "<div style=\"font-size: larger;\">{{자매프로젝트}}</div></div>\n",
      "<!-- 다른 언어 -->\n",
      "<div id=\"mp_otherLanguages\" class=\"mp_outerbox\" style=\"border:1px solid #a7d7f9; margin: 0.5em 0 0.5em; vertical-align:top; padding: 1em; -moz-border-radius: 0.8em; -webkit-border-radius: 0.8em; border-radius: 0.8em;\">\n",
      "<div style=\"background-color: #bbddff; margin-bottom: 0.7em; padding: 0.2em 0.5em; font-size: 1.2em; line-height: 1.2em; overflow: visible; font-weight: bold; -moz-border-radius: 0.5em; -webkit-border-radius: 0.5em; border-radius: 0.5em;\"><div style=\"float: left; margin: -8px 8px -8px 0px;\">[[파일:HSEarth.svg|35px|middle|링크=]]</div>다른 언어로 된 위키백과</div>\n",
      "<div style=\"font-size: larger;\">{{다른 언어}}</div>\n",
      "</div>\n",
      "<div id=\"mp_bottom\" class=\"mp_outerbox\" style=\"border:1px solid #a7d7f9; margin: 0.5em 0 0em; vertical-align:top; padding: 1em; -moz-border-radius: 0.8em; -webkit-border-radius: 0.8em; border-radius: 0.8em;\">\n",
      "<div style=\"text-align:center;\"><div style=\"font-size: 1.2em\">[[위키백과:면책 조항|위키백과는 내용의 확실성을 보증하지 않습니다.]]</div>위키백과 프로젝트의 호스팅을 제공하는 [[위키미디어 재단]]은 내용상 오류에 대해 어떠한 책임도 지지 않습니다.<br />개인 편집자가 자신의 기여에 책임을 져야 합니다.</div>\n",
      "</div>\n",
      "</div><!-- /바닥글 -->\n",
      "{{대문 인터위키}}{{noexternallanglinks}}\n",
      "{http://www.mediawiki.org/xml/export-0.10/}sha1 qwjjnceikstr39e3f28lhyb446xtan5\n"
     ]
    }
   ],
   "source": [
    "for child in root.findall('{http://www.mediawiki.org/xml/export-0.10/}page'):\n",
    "    if flag:\n",
    "        flag -= 1\n",
    "        continue\n",
    "    rev = child.find('{http://www.mediawiki.org/xml/export-0.10/}revision')\n",
    "    for r in rev:\n",
    "        print (r.tag, r.text)\n",
    "    break"
   ]
  },
  {
   "cell_type": "markdown",
   "metadata": {},
   "source": [
    "# Namu Wiki"
   ]
  },
  {
   "cell_type": "code",
   "execution_count": null,
   "metadata": {
    "collapsed": true
   },
   "outputs": [],
   "source": [
    "with open('../data/namuwiki.json') as json_file:    \n",
    "    data = json.load(json_file)"
   ]
  },
  {
   "cell_type": "code",
   "execution_count": null,
   "metadata": {
    "collapsed": true
   },
   "outputs": [],
   "source": [
    "frame = pd.io.json.json_normalize(data)"
   ]
  },
  {
   "cell_type": "markdown",
   "metadata": {
    "deletable": true,
    "editable": true
   },
   "source": [
    "## save pickle"
   ]
  },
  {
   "cell_type": "code",
   "execution_count": null,
   "metadata": {
    "collapsed": false,
    "deletable": true,
    "editable": true
   },
   "outputs": [],
   "source": [
    "f = open('../data/namuwiki.pick', 'wb')\n",
    "pickle.dump(frame, f)\n",
    "f.close()"
   ]
  },
  {
   "cell_type": "markdown",
   "metadata": {
    "deletable": true,
    "editable": true
   },
   "source": [
    "## load pickle"
   ]
  },
  {
   "cell_type": "code",
   "execution_count": 51,
   "metadata": {
    "collapsed": false,
    "deletable": true,
    "editable": true
   },
   "outputs": [],
   "source": [
    "f = open('../data/namuwiki.pick', 'rb')\n",
    "frame = pickle.load(f)\n",
    "f.close()"
   ]
  },
  {
   "cell_type": "code",
   "execution_count": 53,
   "metadata": {
    "collapsed": false,
    "deletable": true,
    "editable": true,
    "scrolled": false
   },
   "outputs": [
    {
     "name": "stdout",
     "output_type": "stream",
     "text": [
      "(842910, 4)\n"
     ]
    },
    {
     "data": {
      "text/html": [
       "<div>\n",
       "<table border=\"1\" class=\"dataframe\">\n",
       "  <thead>\n",
       "    <tr style=\"text-align: right;\">\n",
       "      <th></th>\n",
       "      <th>contributors</th>\n",
       "      <th>namespace</th>\n",
       "      <th>text</th>\n",
       "      <th>title</th>\n",
       "    </tr>\n",
       "  </thead>\n",
       "  <tbody>\n",
       "    <tr>\n",
       "      <th>0</th>\n",
       "      <td>[namubot, R:hoon12560]</td>\n",
       "      <td>0</td>\n",
       "      <td>#redirect 느낌표\\n</td>\n",
       "      <td>!</td>\n",
       "    </tr>\n",
       "    <tr>\n",
       "      <th>1</th>\n",
       "      <td>[anatra95, chkong1998, Iviyuki, kirby10, max02...</td>\n",
       "      <td>0</td>\n",
       "      <td>[[파일:3444050440.jpg]]\\n([[신 세계수의 미궁 2]]에서 뜬 !!...</td>\n",
       "      <td>!!아앗!!</td>\n",
       "    </tr>\n",
       "    <tr>\n",
       "      <th>2</th>\n",
       "      <td>[ABC, AhnJ2000, aottkd3014, dream33, Fairy, ga...</td>\n",
       "      <td>0</td>\n",
       "      <td>[include(틀:다른 뜻1, other1=말줄임표 등으로 사용하는 용어, rd1...</td>\n",
       "      <td>“……”</td>\n",
       "    </tr>\n",
       "  </tbody>\n",
       "</table>\n",
       "</div>"
      ],
      "text/plain": [
       "                                        contributors namespace  \\\n",
       "0                             [namubot, R:hoon12560]         0   \n",
       "1  [anatra95, chkong1998, Iviyuki, kirby10, max02...         0   \n",
       "2  [ABC, AhnJ2000, aottkd3014, dream33, Fairy, ga...         0   \n",
       "\n",
       "                                                text   title  \n",
       "0                                    #redirect 느낌표\\n       !  \n",
       "1  [[파일:3444050440.jpg]]\\n([[신 세계수의 미궁 2]]에서 뜬 !!...  !!아앗!!  \n",
       "2  [include(틀:다른 뜻1, other1=말줄임표 등으로 사용하는 용어, rd1...    “……”  "
      ]
     },
     "execution_count": 53,
     "metadata": {},
     "output_type": "execute_result"
    }
   ],
   "source": [
    "print(frame.shape)\n",
    "frame.head(3)"
   ]
  },
  {
   "cell_type": "code",
   "execution_count": null,
   "metadata": {
    "collapsed": true,
    "deletable": true,
    "editable": true
   },
   "outputs": [],
   "source": [
    "pat_redirect = re.compile('^#redirect (.+)')\n",
    "def check_redirect(text):\n",
    "    match = pat_redirect.match(text)\n",
    "    if match:\n",
    "        return match.group(1)\n",
    "    else:\n",
    "        return False"
   ]
  },
  {
   "cell_type": "code",
   "execution_count": null,
   "metadata": {
    "collapsed": true,
    "deletable": true,
    "editable": true
   },
   "outputs": [],
   "source": [
    "def get_article(title):\n",
    "    p = frame.loc[frame['title'] == title]\n",
    "    return p.text.values[0]    "
   ]
  },
  {
   "cell_type": "code",
   "execution_count": null,
   "metadata": {
    "collapsed": true,
    "deletable": true,
    "editable": true
   },
   "outputs": [],
   "source": [
    "pat_top = re.compile(r'\\* 상위 문서 \\: (.+)')\n",
    "pat_bracket = re.compile(r'\\[\\[(.+?)\\]\\]')\n",
    "\n",
    "def get_top(text):\n",
    "    matches = pat_top.finditer(text)\n",
    "    ret = []\n",
    "    for match in matches:\n",
    "        bracket = pat_bracket.search(match.group(1))\n",
    "        if bracket:\n",
    "            ret.append(bracket.group(1))\n",
    "        else:\n",
    "            ret.append(match.group(1))\n",
    "    return ret"
   ]
  },
  {
   "cell_type": "code",
   "execution_count": null,
   "metadata": {
    "collapsed": true,
    "deletable": true,
    "editable": true
   },
   "outputs": [],
   "source": [
    "cate = ['배우/한국', '가수/한국']"
   ]
  },
  {
   "cell_type": "code",
   "execution_count": null,
   "metadata": {
    "collapsed": false,
    "deletable": true,
    "editable": true
   },
   "outputs": [],
   "source": [
    "actors = []\n",
    "for idx, context in frame.iterrows():\n",
    "    if any(actor in get_top(context.text) for actor in cate):\n",
    "        actors.append(context.title)"
   ]
  },
  {
   "cell_type": "code",
   "execution_count": null,
   "metadata": {
    "collapsed": false,
    "deletable": true,
    "editable": true
   },
   "outputs": [],
   "source": [
    "print (len(actors))\n",
    "for actor in actors[:5]:\n",
    "    print (actor)"
   ]
  },
  {
   "cell_type": "markdown",
   "metadata": {
    "deletable": true,
    "editable": true
   },
   "source": [
    "##  save actors"
   ]
  },
  {
   "cell_type": "code",
   "execution_count": null,
   "metadata": {
    "collapsed": false,
    "deletable": true,
    "editable": true
   },
   "outputs": [],
   "source": [
    "with open('../data/actors.txt', 'w') as f:\n",
    "    for actor in actors:\n",
    "        f.write(actor + r'\\n')"
   ]
  },
  {
   "cell_type": "code",
   "execution_count": null,
   "metadata": {
    "collapsed": false,
    "deletable": true,
    "editable": true
   },
   "outputs": [],
   "source": [
    "pat_bracket = re.compile(r'\\[\\[(.+?)\\]\\]')\n",
    "pat_file = re.compile(r'\\[\\[파일:(.+)\\]\\]')\n",
    "pat_link = re.compile(r'\\[\\[(.+?)\\|(.+?)\\]\\]')\n",
    "pat_comment = re.compile(r'\\[\\*(.+?)\\]')\n",
    "pat_high = re.compile(r'\\{\\{\\{(.+?)\\}\\}\\}')\n",
    "\n",
    "def bracket_filter(text):\n",
    "    ret = \"\"\n",
    "    match = pat_file.match(text)\n",
    "    if match: \n",
    "        ret = \"\"\n",
    "    else:\n",
    "        match = pat_link.match(text)\n",
    "        if match: \n",
    "            ret = match.group(2)\n",
    "        else:\n",
    "            ret = text[2:-2]\n",
    "    return ret\n",
    "\n",
    "def context_filter(text):\n",
    "    # find bracket\n",
    "    delc = 0\n",
    "    matches = pat_bracket.finditer(text)\n",
    "    for match in matches:\n",
    "        conv = bracket_filter(match.group(0))\n",
    "        text = text[:match.start() - delc] + conv +  text[match.end() - delc:]\n",
    "        delc += len(match.group(0)) - len(conv)\n",
    "        \n",
    "    # comments\n",
    "    delc = 0\n",
    "    matches = pat_comment.finditer(text)\n",
    "    for match in matches:\n",
    "        text = text[:match.start() - delc] + match.group(0) +  text[match.end() - delc:]\n",
    "        delc += 3\n",
    "        \n",
    "    # find highlight\n",
    "    delc = 0\n",
    "    matches = pat_high.finditer(text)\n",
    "    for match in matches:\n",
    "        text = text[:match.start() - delc] + match.group(1) +  text[match.end() - delc:]\n",
    "        delc += 6\n",
    "    \n",
    "    return text"
   ]
  },
  {
   "cell_type": "code",
   "execution_count": null,
   "metadata": {
    "collapsed": true,
    "deletable": true,
    "editable": true
   },
   "outputs": [],
   "source": [
    "def tokenize(doc):\n",
    "    return ['/'.join(t) for t in Twitter.pos(doc)]"
   ]
  },
  {
   "cell_type": "code",
   "execution_count": null,
   "metadata": {
    "collapsed": true,
    "deletable": true,
    "editable": true
   },
   "outputs": [],
   "source": [
    "def rawnize(title):\n",
    "    return get_article(title)"
   ]
  },
  {
   "cell_type": "code",
   "execution_count": null,
   "metadata": {
    "collapsed": true,
    "deletable": true,
    "editable": true
   },
   "outputs": [],
   "source": [
    "def textnize(title):\n",
    "    text = get_article(title)\n",
    "    return context_filter(text)"
   ]
  },
  {
   "cell_type": "code",
   "execution_count": null,
   "metadata": {
    "collapsed": false,
    "deletable": true,
    "editable": true
   },
   "outputs": [],
   "source": [
    "for idx, db in frame.iterrows():\n",
    "    text = db.text\n",
    "    chk = check_redirect(text)\n",
    "    if chk:\n",
    "        text = get_article(chk)\n",
    "    context = context_filter(text)\n",
    "    print (context)\n",
    "    break"
   ]
  },
  {
   "cell_type": "code",
   "execution_count": null,
   "metadata": {
    "collapsed": true,
    "deletable": true,
    "editable": true
   },
   "outputs": [],
   "source": []
  }
 ],
 "metadata": {
  "kernelspec": {
   "display_name": "Python 3",
   "language": "python",
   "name": "python3"
  },
  "language_info": {
   "codemirror_mode": {
    "name": "ipython",
    "version": 3
   },
   "file_extension": ".py",
   "mimetype": "text/x-python",
   "name": "python",
   "nbconvert_exporter": "python",
   "pygments_lexer": "ipython3",
   "version": "3.5.2"
  }
 },
 "nbformat": 4,
 "nbformat_minor": 2
}
