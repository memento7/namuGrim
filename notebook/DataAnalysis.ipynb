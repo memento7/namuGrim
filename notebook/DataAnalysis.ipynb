{
 "cells": [
  {
   "cell_type": "code",
   "execution_count": 1,
   "metadata": {
    "collapsed": false,
    "deletable": true,
    "editable": true
   },
   "outputs": [],
   "source": [
    "from __future__ import absolute_import\n",
    "from __future__ import print_function\n",
    "from __future__ import division"
   ]
  },
  {
   "cell_type": "code",
   "execution_count": 101,
   "metadata": {
    "collapsed": false,
    "deletable": true,
    "editable": true
   },
   "outputs": [],
   "source": [
    "import numpy as np\n",
    "import pandas as pd\n",
    "#import tensorflow as tf\n",
    "import matplotlib.pyplot as plt\n",
    "import json\n",
    "import re\n",
    "import pickle"
   ]
  },
  {
   "cell_type": "code",
   "execution_count": 102,
   "metadata": {
    "collapsed": true,
    "deletable": true,
    "editable": true
   },
   "outputs": [],
   "source": [
    "import collections\n",
    "import math\n",
    "import os\n",
    "import random\n",
    "import zipfile"
   ]
  },
  {
   "cell_type": "markdown",
   "metadata": {
    "deletable": true,
    "editable": true
   },
   "source": [
    "# ko-Wikipedia"
   ]
  },
  {
   "cell_type": "code",
   "execution_count": 108,
   "metadata": {
    "collapsed": true,
    "deletable": true,
    "editable": true
   },
   "outputs": [],
   "source": [
    "import xml.etree.ElementTree as ET\n",
    "from xml.dom import minidom"
   ]
  },
  {
   "cell_type": "code",
   "execution_count": 6,
   "metadata": {
    "collapsed": false,
    "deletable": true,
    "editable": true
   },
   "outputs": [],
   "source": [
    "root = ET.parse('../data/kowiki.xml').getroot()"
   ]
  },
  {
   "cell_type": "code",
   "execution_count": 132,
   "metadata": {
    "collapsed": true
   },
   "outputs": [],
   "source": [
    "wiki = '{http://www.mediawiki.org/xml/export-0.10/}'\n",
    "columns = [ 'title', 'id', 'revision/text']"
   ]
  },
  {
   "cell_type": "code",
   "execution_count": 171,
   "metadata": {
    "collapsed": true
   },
   "outputs": [],
   "source": [
    "def extract(content, columns):\n",
    "    res = []\n",
    "    for column in columns:\n",
    "        copy = content\n",
    "        for query in column.split('/'): copy = copy.find(wiki + query)\n",
    "        res.append(copy.text)\n",
    "    return res"
   ]
  },
  {
   "cell_type": "code",
   "execution_count": 227,
   "metadata": {
    "collapsed": false
   },
   "outputs": [],
   "source": [
    "kowiki = []"
   ]
  },
  {
   "cell_type": "code",
   "execution_count": 228,
   "metadata": {
    "collapsed": false,
    "deletable": true,
    "editable": true,
    "scrolled": true
   },
   "outputs": [],
   "source": [
    "for child in root.findall(wiki + 'page'):\n",
    "    kowiki.append(extract(child, columns))"
   ]
  },
  {
   "cell_type": "code",
   "execution_count": null,
   "metadata": {
    "collapsed": true
   },
   "outputs": [],
   "source": [
    "frame = pd.DataFrame(kowiki, columns = columns)"
   ]
  },
  {
   "cell_type": "code",
   "execution_count": null,
   "metadata": {
    "collapsed": true
   },
   "outputs": [],
   "source": [
    "frame.head()"
   ]
  },
  {
   "cell_type": "markdown",
   "metadata": {
    "deletable": true,
    "editable": true
   },
   "source": [
    "# Namu Wiki"
   ]
  },
  {
   "cell_type": "code",
   "execution_count": null,
   "metadata": {
    "collapsed": true,
    "deletable": true,
    "editable": true
   },
   "outputs": [],
   "source": [
    "with open('../data/namuwiki.json') as json_file:    \n",
    "    data = json.load(json_file)"
   ]
  },
  {
   "cell_type": "code",
   "execution_count": null,
   "metadata": {
    "collapsed": true,
    "deletable": true,
    "editable": true
   },
   "outputs": [],
   "source": [
    "frame = pd.io.json.json_normalize(data)"
   ]
  },
  {
   "cell_type": "markdown",
   "metadata": {
    "deletable": true,
    "editable": true
   },
   "source": [
    "## save pickle"
   ]
  },
  {
   "cell_type": "code",
   "execution_count": null,
   "metadata": {
    "collapsed": false,
    "deletable": true,
    "editable": true
   },
   "outputs": [],
   "source": [
    "f = open('../data/namuwiki.pick', 'wb')\n",
    "pickle.dump(frame, f)\n",
    "f.close()"
   ]
  },
  {
   "cell_type": "markdown",
   "metadata": {
    "deletable": true,
    "editable": true
   },
   "source": [
    "## load pickle"
   ]
  },
  {
   "cell_type": "code",
   "execution_count": 51,
   "metadata": {
    "collapsed": false,
    "deletable": true,
    "editable": true
   },
   "outputs": [],
   "source": [
    "f = open('../data/namuwiki.pick', 'rb')\n",
    "frame = pickle.load(f)\n",
    "f.close()"
   ]
  },
  {
   "cell_type": "code",
   "execution_count": 53,
   "metadata": {
    "collapsed": false,
    "deletable": true,
    "editable": true,
    "scrolled": false
   },
   "outputs": [
    {
     "name": "stdout",
     "output_type": "stream",
     "text": [
      "(842910, 4)\n"
     ]
    },
    {
     "data": {
      "text/html": [
       "<div>\n",
       "<table border=\"1\" class=\"dataframe\">\n",
       "  <thead>\n",
       "    <tr style=\"text-align: right;\">\n",
       "      <th></th>\n",
       "      <th>contributors</th>\n",
       "      <th>namespace</th>\n",
       "      <th>text</th>\n",
       "      <th>title</th>\n",
       "    </tr>\n",
       "  </thead>\n",
       "  <tbody>\n",
       "    <tr>\n",
       "      <th>0</th>\n",
       "      <td>[namubot, R:hoon12560]</td>\n",
       "      <td>0</td>\n",
       "      <td>#redirect 느낌표\\n</td>\n",
       "      <td>!</td>\n",
       "    </tr>\n",
       "    <tr>\n",
       "      <th>1</th>\n",
       "      <td>[anatra95, chkong1998, Iviyuki, kirby10, max02...</td>\n",
       "      <td>0</td>\n",
       "      <td>[[파일:3444050440.jpg]]\\n([[신 세계수의 미궁 2]]에서 뜬 !!...</td>\n",
       "      <td>!!아앗!!</td>\n",
       "    </tr>\n",
       "    <tr>\n",
       "      <th>2</th>\n",
       "      <td>[ABC, AhnJ2000, aottkd3014, dream33, Fairy, ga...</td>\n",
       "      <td>0</td>\n",
       "      <td>[include(틀:다른 뜻1, other1=말줄임표 등으로 사용하는 용어, rd1...</td>\n",
       "      <td>“……”</td>\n",
       "    </tr>\n",
       "  </tbody>\n",
       "</table>\n",
       "</div>"
      ],
      "text/plain": [
       "                                        contributors namespace  \\\n",
       "0                             [namubot, R:hoon12560]         0   \n",
       "1  [anatra95, chkong1998, Iviyuki, kirby10, max02...         0   \n",
       "2  [ABC, AhnJ2000, aottkd3014, dream33, Fairy, ga...         0   \n",
       "\n",
       "                                                text   title  \n",
       "0                                    #redirect 느낌표\\n       !  \n",
       "1  [[파일:3444050440.jpg]]\\n([[신 세계수의 미궁 2]]에서 뜬 !!...  !!아앗!!  \n",
       "2  [include(틀:다른 뜻1, other1=말줄임표 등으로 사용하는 용어, rd1...    “……”  "
      ]
     },
     "execution_count": 53,
     "metadata": {},
     "output_type": "execute_result"
    }
   ],
   "source": [
    "print(frame.shape)\n",
    "frame.head(3)"
   ]
  },
  {
   "cell_type": "code",
   "execution_count": null,
   "metadata": {
    "collapsed": true,
    "deletable": true,
    "editable": true
   },
   "outputs": [],
   "source": [
    "pat_redirect = re.compile('^#redirect (.+)')\n",
    "def check_redirect(text):\n",
    "    match = pat_redirect.match(text)\n",
    "    if match:\n",
    "        return match.group(1)\n",
    "    else:\n",
    "        return False"
   ]
  },
  {
   "cell_type": "code",
   "execution_count": null,
   "metadata": {
    "collapsed": true,
    "deletable": true,
    "editable": true
   },
   "outputs": [],
   "source": [
    "def get_article(title):\n",
    "    p = frame.loc[frame['title'] == title]\n",
    "    return p.text.values[0]    "
   ]
  },
  {
   "cell_type": "code",
   "execution_count": null,
   "metadata": {
    "collapsed": true,
    "deletable": true,
    "editable": true
   },
   "outputs": [],
   "source": [
    "pat_top = re.compile(r'\\* 상위 문서 \\: (.+)')\n",
    "pat_bracket = re.compile(r'\\[\\[(.+?)\\]\\]')\n",
    "\n",
    "def get_top(text):\n",
    "    matches = pat_top.finditer(text)\n",
    "    ret = []\n",
    "    for match in matches:\n",
    "        bracket = pat_bracket.search(match.group(1))\n",
    "        if bracket:\n",
    "            ret.append(bracket.group(1))\n",
    "        else:\n",
    "            ret.append(match.group(1))\n",
    "    return ret"
   ]
  },
  {
   "cell_type": "code",
   "execution_count": null,
   "metadata": {
    "collapsed": true,
    "deletable": true,
    "editable": true
   },
   "outputs": [],
   "source": [
    "cate = ['배우/한국', '가수/한국']"
   ]
  },
  {
   "cell_type": "code",
   "execution_count": null,
   "metadata": {
    "collapsed": false,
    "deletable": true,
    "editable": true
   },
   "outputs": [],
   "source": [
    "actors = []\n",
    "for idx, context in frame.iterrows():\n",
    "    if any(actor in get_top(context.text) for actor in cate):\n",
    "        actors.append(context.title)"
   ]
  },
  {
   "cell_type": "code",
   "execution_count": null,
   "metadata": {
    "collapsed": false,
    "deletable": true,
    "editable": true
   },
   "outputs": [],
   "source": [
    "print (len(actors))\n",
    "for actor in actors[:5]:\n",
    "    print (actor)"
   ]
  },
  {
   "cell_type": "markdown",
   "metadata": {
    "deletable": true,
    "editable": true
   },
   "source": [
    "##  save actors"
   ]
  },
  {
   "cell_type": "code",
   "execution_count": null,
   "metadata": {
    "collapsed": false,
    "deletable": true,
    "editable": true
   },
   "outputs": [],
   "source": [
    "with open('../data/actors.txt', 'w') as f:\n",
    "    for actor in actors:\n",
    "        f.write(actor + r'\\n')"
   ]
  },
  {
   "cell_type": "code",
   "execution_count": null,
   "metadata": {
    "collapsed": false,
    "deletable": true,
    "editable": true
   },
   "outputs": [],
   "source": [
    "pat_bracket = re.compile(r'\\[\\[(.+?)\\]\\]')\n",
    "pat_file = re.compile(r'\\[\\[파일:(.+)\\]\\]')\n",
    "pat_link = re.compile(r'\\[\\[(.+?)\\|(.+?)\\]\\]')\n",
    "pat_comment = re.compile(r'\\[\\*(.+?)\\]')\n",
    "pat_high = re.compile(r'\\{\\{\\{(.+?)\\}\\}\\}')\n",
    "\n",
    "def bracket_filter(text):\n",
    "    ret = \"\"\n",
    "    match = pat_file.match(text)\n",
    "    if match: \n",
    "        ret = \"\"\n",
    "    else:\n",
    "        match = pat_link.match(text)\n",
    "        if match: \n",
    "            ret = match.group(2)\n",
    "        else:\n",
    "            ret = text[2:-2]\n",
    "    return ret\n",
    "\n",
    "def context_filter(text):\n",
    "    # find bracket\n",
    "    delc = 0\n",
    "    matches = pat_bracket.finditer(text)\n",
    "    for match in matches:\n",
    "        conv = bracket_filter(match.group(0))\n",
    "        text = text[:match.start() - delc] + conv +  text[match.end() - delc:]\n",
    "        delc += len(match.group(0)) - len(conv)\n",
    "        \n",
    "    # comments\n",
    "    delc = 0\n",
    "    matches = pat_comment.finditer(text)\n",
    "    for match in matches:\n",
    "        text = text[:match.start() - delc] + match.group(0) +  text[match.end() - delc:]\n",
    "        delc += 3\n",
    "        \n",
    "    # find highlight\n",
    "    delc = 0\n",
    "    matches = pat_high.finditer(text)\n",
    "    for match in matches:\n",
    "        text = text[:match.start() - delc] + match.group(1) +  text[match.end() - delc:]\n",
    "        delc += 6\n",
    "    \n",
    "    return text"
   ]
  },
  {
   "cell_type": "code",
   "execution_count": null,
   "metadata": {
    "collapsed": true,
    "deletable": true,
    "editable": true
   },
   "outputs": [],
   "source": [
    "def tokenize(doc):\n",
    "    return ['/'.join(t) for t in Twitter.pos(doc)]"
   ]
  },
  {
   "cell_type": "code",
   "execution_count": null,
   "metadata": {
    "collapsed": true,
    "deletable": true,
    "editable": true
   },
   "outputs": [],
   "source": [
    "def rawnize(title):\n",
    "    return get_article(title)"
   ]
  },
  {
   "cell_type": "code",
   "execution_count": null,
   "metadata": {
    "collapsed": true,
    "deletable": true,
    "editable": true
   },
   "outputs": [],
   "source": [
    "def textnize(title):\n",
    "    text = get_article(title)\n",
    "    return context_filter(text)"
   ]
  },
  {
   "cell_type": "code",
   "execution_count": null,
   "metadata": {
    "collapsed": false,
    "deletable": true,
    "editable": true
   },
   "outputs": [],
   "source": [
    "for idx, db in frame.iterrows():\n",
    "    text = db.text\n",
    "    chk = check_redirect(text)\n",
    "    if chk:\n",
    "        text = get_article(chk)\n",
    "    context = context_filter(text)\n",
    "    print (context)\n",
    "    break"
   ]
  },
  {
   "cell_type": "code",
   "execution_count": null,
   "metadata": {
    "collapsed": true,
    "deletable": true,
    "editable": true
   },
   "outputs": [],
   "source": []
  }
 ],
 "metadata": {
  "kernelspec": {
   "display_name": "Python 3",
   "language": "python",
   "name": "python3"
  },
  "language_info": {
   "codemirror_mode": {
    "name": "ipython",
    "version": 3
   },
   "file_extension": ".py",
   "mimetype": "text/x-python",
   "name": "python",
   "nbconvert_exporter": "python",
   "pygments_lexer": "ipython3",
   "version": "3.5.2"
  }
 },
 "nbformat": 4,
 "nbformat_minor": 2
}
