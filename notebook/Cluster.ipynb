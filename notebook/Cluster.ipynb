{
 "cells": [
  {
   "cell_type": "code",
   "execution_count": 1,
   "metadata": {
    "collapsed": true,
    "deletable": true,
    "editable": true
   },
   "outputs": [],
   "source": [
    "import pandas as pd\n",
    "from konlpy.tag import Twitter"
   ]
  },
  {
   "cell_type": "code",
   "execution_count": 13,
   "metadata": {
    "collapsed": false,
    "deletable": true,
    "editable": true
   },
   "outputs": [
    {
     "name": "stdout",
     "output_type": "stream",
     "text": [
      "(8041759, 3)\n"
     ]
    },
    {
     "data": {
      "text/html": [
       "<div>\n",
       "<table border=\"1\" class=\"dataframe\">\n",
       "  <thead>\n",
       "    <tr style=\"text-align: right;\">\n",
       "      <th></th>\n",
       "      <th>href</th>\n",
       "      <th>actor</th>\n",
       "      <th>content</th>\n",
       "    </tr>\n",
       "  </thead>\n",
       "  <tbody>\n",
       "    <tr>\n",
       "      <th>0</th>\n",
       "      <td>http://news.naver.com/main/read.nhn?mode=LSD&amp;m...</td>\n",
       "      <td>BoA</td>\n",
       "      <td>- FRB 유동성 공급에 4개 중앙銀 동참 - `슈퍼펀드` 조성에 日 금융권 지원할...</td>\n",
       "    </tr>\n",
       "    <tr>\n",
       "      <th>1</th>\n",
       "      <td>http://news.naver.com/main/read.nhn?mode=LSD&amp;m...</td>\n",
       "      <td>BoA</td>\n",
       "      <td>- BOA 최고경영자 경고[이데일리 권소현기자] 뱅크 오브 아메리카(BOA)의 켄 ...</td>\n",
       "    </tr>\n",
       "    <tr>\n",
       "      <th>2</th>\n",
       "      <td>http://news.naver.com/main/read.nhn?mode=LSD&amp;m...</td>\n",
       "      <td>BoA</td>\n",
       "      <td>- 국제신용등급 어드바이저로 골드만삭스·BOA 선정- 2억불 외화채권 발행 추진…미...</td>\n",
       "    </tr>\n",
       "  </tbody>\n",
       "</table>\n",
       "</div>"
      ],
      "text/plain": [
       "                                                href actor  \\\n",
       "0  http://news.naver.com/main/read.nhn?mode=LSD&m...   BoA   \n",
       "1  http://news.naver.com/main/read.nhn?mode=LSD&m...   BoA   \n",
       "2  http://news.naver.com/main/read.nhn?mode=LSD&m...   BoA   \n",
       "\n",
       "                                             content  \n",
       "0  - FRB 유동성 공급에 4개 중앙銀 동참 - `슈퍼펀드` 조성에 日 금융권 지원할...  \n",
       "1  - BOA 최고경영자 경고[이데일리 권소현기자] 뱅크 오브 아메리카(BOA)의 켄 ...  \n",
       "2  - 국제신용등급 어드바이저로 골드만삭스·BOA 선정- 2억불 외화채권 발행 추진…미...  "
      ]
     },
     "execution_count": 13,
     "metadata": {},
     "output_type": "execute_result"
    }
   ],
   "source": [
    "contents = pd.read_csv('../../newsCraw/data/newsContents.csv')\n",
    "print (contents.shape)\n",
    "contents.head(3)"
   ]
  },
  {
   "cell_type": "code",
   "execution_count": 3,
   "metadata": {
    "collapsed": true,
    "deletable": true,
    "editable": true
   },
   "outputs": [],
   "source": [
    "actors = contents['actor'].unique()"
   ]
  },
  {
   "cell_type": "code",
   "execution_count": 8,
   "metadata": {
    "collapsed": true,
    "deletable": true,
    "editable": true
   },
   "outputs": [],
   "source": [
    "def getContents(actor):\n",
    "    return contents.loc[contents['actor'] == actor]"
   ]
  },
  {
   "cell_type": "code",
   "execution_count": 5,
   "metadata": {
    "collapsed": true,
    "deletable": true,
    "editable": true
   },
   "outputs": [],
   "source": [
    "tagger = Twitter()\n",
    "\n",
    "def getTokens(content):\n",
    "    if content != content: return ''\n",
    "    return [\"{}/{}\".format(word, tag) for word, tag in tagger.pos(content) if tag == 'Noun']\n",
    "\n",
    "def extract(tokens, n=15):\n",
    "    token_dic = {}\n",
    "    for token in tokens:\n",
    "        if not token in token_dic: token_dic[token] = 0\n",
    "        token_dic[token] += 1\n",
    "    tokens = sorted(list(token_dic.items()), key = lambda x: -x[1])\n",
    "    return tokens[:n]\n",
    "\n",
    "def tokenize(content):\n",
    "    return extract(getTokens(content), 25)"
   ]
  },
  {
   "cell_type": "code",
   "execution_count": 18,
   "metadata": {
    "collapsed": false
   },
   "outputs": [],
   "source": [
    "for idx, content in contents.iterrows():\n",
    "    content.tokens = tokenize(content.content)"
   ]
  },
  {
   "cell_type": "code",
   "execution_count": null,
   "metadata": {
    "collapsed": true,
    "deletable": true,
    "editable": true
   },
   "outputs": [],
   "source": [
    "contents.to_csv('../../newsCraw/data/newsContentsToken.csv')"
   ]
  }
 ],
 "metadata": {
  "kernelspec": {
   "display_name": "Python 3",
   "language": "python",
   "name": "python3"
  },
  "language_info": {
   "codemirror_mode": {
    "name": "ipython",
    "version": 3
   },
   "file_extension": ".py",
   "mimetype": "text/x-python",
   "name": "python",
   "nbconvert_exporter": "python",
   "pygments_lexer": "ipython3",
   "version": "3.5.2"
  }
 },
 "nbformat": 4,
 "nbformat_minor": 2
}
